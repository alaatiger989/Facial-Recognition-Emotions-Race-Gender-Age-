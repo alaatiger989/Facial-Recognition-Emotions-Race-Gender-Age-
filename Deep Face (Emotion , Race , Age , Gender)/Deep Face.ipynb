{
 "cells": [
  {
   "cell_type": "code",
   "execution_count": 49,
   "id": "14042026",
   "metadata": {},
   "outputs": [],
   "source": [
    "import cv2\n",
    "from deepface import DeepFace\n",
    "import numpy as np"
   ]
  },
  {
   "cell_type": "code",
   "execution_count": 88,
   "id": "aa4bfba0",
   "metadata": {},
   "outputs": [],
   "source": [
    "frame = cv2.imread(\"Capture2.jpg\")"
   ]
  },
  {
   "cell_type": "code",
   "execution_count": 89,
   "id": "4ae9956c",
   "metadata": {},
   "outputs": [
    {
     "name": "stderr",
     "output_type": "stream",
     "text": [
      "Action: race: 100%|██████████| 4/4 [00:00<00:00,  4.86it/s]   \n"
     ]
    }
   ],
   "source": [
    "results = DeepFace.analyze(frame , actions = (\"gender\" , \"age\" , \"emotion\" , \"race\"))"
   ]
  },
  {
   "cell_type": "code",
   "execution_count": 90,
   "id": "1e8304e6",
   "metadata": {},
   "outputs": [
    {
     "name": "stdout",
     "output_type": "stream",
     "text": [
      "[{'gender': {'Woman': 0.7984262891113758, 'Man': 99.20157194137573}, 'dominant_gender': 'Man', 'region': {'x': 639, 'y': 253, 'w': 235, 'h': 235}, 'age': 28, 'emotion': {'angry': 8.561485260725021, 'disgust': 0.013086128456052393, 'fear': 7.366298884153366, 'happy': 9.436268359422684, 'sad': 37.625670433044434, 'surprise': 0.4303437191992998, 'neutral': 36.56684458255768}, 'dominant_emotion': 'sad', 'race': {'asian': 4.352805650401452, 'indian': 8.218104882127337, 'black': 82.22377790354359, 'white': 0.6448398262911932, 'middle eastern': 0.3487837941592213, 'latino hispanic': 4.2116882927231964}, 'dominant_race': 'black'}]\n"
     ]
    }
   ],
   "source": [
    "print(results)"
   ]
  },
  {
   "cell_type": "code",
   "execution_count": 91,
   "id": "f24d0904",
   "metadata": {},
   "outputs": [],
   "source": [
    "gray = cv2.cvtColor(frame , cv2.COLOR_BGR2GRAY)"
   ]
  },
  {
   "cell_type": "code",
   "execution_count": 92,
   "id": "58dd56b9",
   "metadata": {},
   "outputs": [],
   "source": [
    "faceDetect = cv2.CascadeClassifier('haarcascade_frontalface_default.xml')"
   ]
  },
  {
   "cell_type": "code",
   "execution_count": 93,
   "id": "fc3f1bb6",
   "metadata": {},
   "outputs": [],
   "source": [
    "faces = faceDetect.detectMultiScale(gray , 1.3 , 3)"
   ]
  },
  {
   "cell_type": "code",
   "execution_count": 94,
   "id": "68fa38c0",
   "metadata": {},
   "outputs": [],
   "source": [
    "for x , y , w , h in faces:\n",
    "    sub_face_img = gray[y:y+h , x:x+w]\n",
    "    resized = cv2.resize(sub_face_img , (48 , 48))\n",
    "    normalize = resized/255.0\n",
    "    reshaped = np.reshape(normalize , (1 , 48 , 48 , 1))\n",
    "    cv2.rectangle(frame , (x , y) , (x+w , y+h) ,(0 , 0 , 255) , 1)\n",
    "    cv2.rectangle(frame , (x , y) , (x+w , y+h) , (50 , 50 , 255) , 2)\n",
    "    cv2.rectangle(frame , (x , y-40) , (x+w , y) , (50 , 50 , 255) , -1)\n",
    "    resultText = \"{} , {} , {} , {}\".format(\n",
    "        results[0]['dominant_gender'] ,\n",
    "        results[0]['dominant_emotion'] ,\n",
    "        results[0]['dominant_race'] ,\n",
    "        results[0]['age']\n",
    "    )\n",
    "    cv2.putText(frame , resultText , (x , y-10) , cv2.FONT_HERSHEY_SIMPLEX , 0.8 , (255 , 255 , 255) , 2)"
   ]
  },
  {
   "cell_type": "code",
   "execution_count": 95,
   "id": "574c7c35",
   "metadata": {},
   "outputs": [],
   "source": [
    "cv2.imshow(\"Frame\" , frame)\n",
    "cv2.waitKey(0) \n",
    "cv2.destroyAllWindows()"
   ]
  },
  {
   "cell_type": "code",
   "execution_count": null,
   "id": "edc4abf0",
   "metadata": {},
   "outputs": [],
   "source": []
  }
 ],
 "metadata": {
  "kernelspec": {
   "display_name": "Python 3 (ipykernel)",
   "language": "python",
   "name": "python3"
  },
  "language_info": {
   "codemirror_mode": {
    "name": "ipython",
    "version": 3
   },
   "file_extension": ".py",
   "mimetype": "text/x-python",
   "name": "python",
   "nbconvert_exporter": "python",
   "pygments_lexer": "ipython3",
   "version": "3.11.5"
  }
 },
 "nbformat": 4,
 "nbformat_minor": 5
}
